{
 "cells": [
  {
   "cell_type": "code",
   "execution_count": 1,
   "id": "7c204545-4702-4257-9adb-a9d16aca8942",
   "metadata": {},
   "outputs": [],
   "source": [
    "import sys\n",
    "nb_out = sys.stdout"
   ]
  },
  {
   "cell_type": "code",
   "execution_count": 2,
   "id": "3abea76d-9c91-4b06-b38d-4109ce47a489",
   "metadata": {},
   "outputs": [
    {
     "name": "stdout",
     "output_type": "stream",
     "text": [
      "Importing the tsaugmentation module. L. Roque. \n",
      "    Method to Test the Robustness of Hierarchical Time Series Forecasting Algorithms.\n",
      "\n"
     ]
    }
   ],
   "source": [
    "import tsaugmentation as tsag\n",
    "sys.stdout = nb_out"
   ]
  },
  {
   "cell_type": "code",
   "execution_count": 5,
   "id": "f8626463-366a-447c-9742-e529d6eaf04f",
   "metadata": {},
   "outputs": [
    {
     "name": "stdout",
     "output_type": "stream",
     "text": [
      "Number of groups: 4\n",
      "\tstate: 7\n",
      "\tzone: 27\n",
      "\tregion: 76\n",
      "\tpurpose: 4\n",
      "Total number of series: 304\n",
      "Number of points per series for train: 204\n",
      "Total number of points: 228\n",
      "Seasonality: 12\n",
      "Forecast horizon: 24\n"
     ]
    }
   ],
   "source": [
    "data = tsag.preprocessing.PreprocessDatasets('tourism').apply_preprocess()"
   ]
  },
  {
   "cell_type": "code",
   "execution_count": 6,
   "id": "77a6485b-d777-4aa3-8f14-7cf140e02f5c",
   "metadata": {},
   "outputs": [],
   "source": [
    "train = data['train']['data']"
   ]
  },
  {
   "cell_type": "code",
   "execution_count": 7,
   "id": "c7cd2475-9e3f-4885-86b6-a3f72c5fc7d4",
   "metadata": {},
   "outputs": [
    {
     "data": {
      "text/plain": [
       "array([[ 307, 2142,  202, ...,    3,    0,    5],\n",
       "       [ 367,  609,  159, ...,    0,    0,    1],\n",
       "       [ 543,  388,  100, ...,    0,    0,    2],\n",
       "       ...,\n",
       "       [ 589,  272,  174, ...,   15,    1,    0],\n",
       "       [ 507,  269,  304, ...,    0,    1,    0],\n",
       "       [ 768,  222,   72, ...,    2,    1,    0]])"
      ]
     },
     "execution_count": 7,
     "metadata": {},
     "output_type": "execute_result"
    }
   ],
   "source": [
    "train"
   ]
  },
  {
   "cell_type": "markdown",
   "id": "6b69d113-e705-471d-b521-41f202d0304a",
   "metadata": {},
   "source": [
    "Features for each node:\n",
    "- Average number of visits at that node\n",
    "- Number of connections (e.g. top node has 4 connections -> state, zone, region, purpose)\n",
    "\n",
    "Only use train data to avoid leaking information into the train set. "
   ]
  },
  {
   "cell_type": "markdown",
   "id": "a8084398-91b4-4811-9542-34c6fa843e5c",
   "metadata": {},
   "source": [
    "The adjencency matrix to build:\n",
    "\n",
    "$$ \\begin{matrix} 1 & 1 & 1& 1 \\\\\n",
    "1 & 1 & 0 & 0 \\\\\n",
    "0 & 0 & 1 & 1\\\\\n",
    "1 & 0 & 0 & 0\\\\\n",
    "0 & 1 & 0 & 0 \\\\\n",
    "0 & 0 & 1 & 0 \\\\\n",
    "0 & 0 & 0 & 1\\end{matrix}$$"
   ]
  },
  {
   "cell_type": "code",
   "execution_count": 33,
   "id": "b60e8bef-a89e-4f3b-8366-937246c44eaa",
   "metadata": {},
   "outputs": [],
   "source": [
    "from sklearn.preprocessing import OneHotEncoder\n",
    "import numpy as np"
   ]
  },
  {
   "cell_type": "code",
   "execution_count": null,
   "id": "e598453b-3ede-4ecc-8fcc-1cce189280e6",
   "metadata": {},
   "outputs": [
    {
     "data": {
      "text/plain": [
       "{'state': array(['A', 'B', 'C', 'D', 'E', 'F', 'G'], dtype='<U1'),\n",
       " 'zone': array(['AA', 'AB', 'AC', 'AD', 'AE', 'AF', 'BA', 'BB', 'BC', 'BD', 'BE',\n",
       "        'CA', 'CB', 'CC', 'CD', 'DA', 'DB', 'DC', 'DD', 'EA', 'EB', 'EC',\n",
       "        'FA', 'FB', 'FC', 'GA', 'GB'], dtype='<U2'),\n",
       " 'region': array(['AAA', 'AAB', 'ABA', 'ABB', 'ACA', 'ADA', 'ADB', 'ADC', 'ADD',\n",
       "        'AEA', 'AEB', 'AEC', 'AED', 'AFA', 'BAA', 'BAB', 'BAC', 'BBA',\n",
       "        'BCA', 'BCB', 'BCC', 'BDA', 'BDB', 'BDC', 'BDD', 'BDE', 'BDF',\n",
       "        'BEA', 'BEB', 'BEC', 'BED', 'BEE', 'BEF', 'BEG', 'BEH', 'CAA',\n",
       "        'CAB', 'CAC', 'CBA', 'CBB', 'CBC', 'CBD', 'CCA', 'CCB', 'CCC',\n",
       "        'CDA', 'CDB', 'DAA', 'DAB', 'DAC', 'DBA', 'DBB', 'DBC', 'DCA',\n",
       "        'DCB', 'DCC', 'DCD', 'DDA', 'DDB', 'EAA', 'EAB', 'EAC', 'EBA',\n",
       "        'ECA', 'FAA', 'FBA', 'FBB', 'FCA', 'FCB', 'GAA', 'GAB', 'GAC',\n",
       "        'GBA', 'GBB', 'GBC', 'GBD'], dtype='<U3'),\n",
       " 'purpose': array(['Bus', 'Hol', 'Oth', 'Vis'], dtype='<U3')}"
      ]
     },
     "execution_count": 62,
     "metadata": {},
     "output_type": "execute_result"
    }
   ],
   "source": [
    "data['train']['groups_names']"
   ]
  },
  {
   "cell_type": "code",
   "execution_count": null,
   "id": "e332eeb6-a5cc-4be6-936e-4f65a4f72d23",
   "metadata": {},
   "outputs": [],
   "source": [
    "enc = OneHotEncoder(\n",
    "    \n",
    ")"
   ]
  },
  {
   "cell_type": "code",
   "execution_count": null,
   "id": "1bbc7b5b-013e-49df-ab78-64ccf4f634c9",
   "metadata": {},
   "outputs": [],
   "source": []
  }
 ],
 "metadata": {
  "kernelspec": {
   "display_name": "Python 3 (ipykernel)",
   "language": "python",
   "name": "python3"
  },
  "language_info": {
   "codemirror_mode": {
    "name": "ipython",
    "version": 3
   },
   "file_extension": ".py",
   "mimetype": "text/x-python",
   "name": "python",
   "nbconvert_exporter": "python",
   "pygments_lexer": "ipython3",
   "version": "3.9.12"
  }
 },
 "nbformat": 4,
 "nbformat_minor": 5
}
